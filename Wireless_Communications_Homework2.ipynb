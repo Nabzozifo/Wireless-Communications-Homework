{
  "nbformat": 4,
  "nbformat_minor": 0,
  "metadata": {
    "colab": {
      "name": "Wireless Communications- Homework2.ipynb",
      "provenance": [],
      "collapsed_sections": [],
      "authorship_tag": "ABX9TyMgg5iwSBJ6+h6RZBmtUVpl"
    },
    "kernelspec": {
      "name": "python3",
      "display_name": "Python 3"
    },
    "accelerator": "GPU"
  },
  "cells": [
    {
      "cell_type": "markdown",
      "metadata": {
        "id": "2qIRpV6igfhT"
      },
      "source": [
        "Import libraries"
      ]
    },
    {
      "cell_type": "code",
      "metadata": {
        "id": "IhgNAWKtlfPY"
      },
      "source": [
        "from numpy import mean\n",
        "from numpy import std\n",
        "from sklearn.model_selection import KFold\n",
        "import tensorflow as tf\n",
        "from tensorflow import keras\n",
        "from tensorflow.keras.datasets import mnist\n",
        "from tensorflow.keras.utils import to_categorical\n",
        "from tensorflow.keras.optimizers import SGD\n",
        "from tensorflow.keras.models import Sequential\n",
        "from tensorflow.keras.layers import BatchNormalization\n",
        "from tensorflow.keras.layers import Conv2D\n",
        "from tensorflow.keras.layers import MaxPooling2D\n",
        "from tensorflow.keras.layers import Activation\n",
        "from tensorflow.keras.layers import Flatten\n",
        "from tensorflow.keras.layers import Dropout\n",
        "from tensorflow.keras.layers import Dense\n",
        "from tensorflow.keras.optimizers import Adam\n",
        "from tensorflow.keras.losses import categorical_crossentropy\n",
        "import numpy as np\n",
        "import time\n",
        "import sys\n",
        "from numpy.random import rayleigh\n",
        "import matplotlib.pyplot as plt\n",
        "import random\n",
        "\n",
        "\n",
        "%matplotlib inline\n"
      ],
      "execution_count": null,
      "outputs": []
    },
    {
      "cell_type": "markdown",
      "metadata": {
        "id": "kaiowqXXskMO"
      },
      "source": [
        "# **Exercice 1**"
      ]
    },
    {
      "cell_type": "markdown",
      "metadata": {
        "id": "u5LT5ZoNkTYh"
      },
      "source": [
        "Assume a parameter server that is located at the center of a circle area A of 100 meter of radius.\n",
        "Suppose 10 devices randomly scattered within area (choose random positions of devices within\n",
        "this circle). Plot the position of the server and the positions of the devices.\n"
      ]
    },
    {
      "cell_type": "code",
      "metadata": {
        "id": "ifjF3JRC_Pmd",
        "colab": {
          "base_uri": "https://localhost:8080/",
          "height": 483
        },
        "outputId": "97aeb117-3404-46e0-f89d-6d2cb1edb176"
      },
      "source": [
        "def generatePoint(tres):\n",
        "  x=[0]\n",
        "  y=[0]\n",
        "  for i in range(1,11):\n",
        "    #generate a random radius and thetha for computing coordinates of devices\n",
        "    theta = random.random()*2*np.pi\n",
        "    n = random.randint(1,100)\n",
        "    for j in range (i) :\n",
        "      # use a treshold for keep a certain distance beetween device\n",
        "      while  (np.sqrt( (n*np.cos(theta)-x[j])**2 + (n*np.sin(theta)-y[j])**2 )  < tres):\n",
        "        theta = random.random()*2*np.pi\n",
        "        n = random.randint(1,100)\n",
        "    x.append(n*np.cos(theta))\n",
        "    y.append(n*np.sin(theta))\n",
        "  return x,y\n",
        "x,y=generatePoint(10)\n",
        "fig, ax = plt.subplots(1, figsize=(10, 8))\n",
        "\n",
        "# Scatter the server\n",
        "ax.scatter(x[0], y[0],marker=\"s\")\n",
        "#Scatter devices\n",
        "ax.scatter(x[1:], y[1:],marker=\"X\")\n",
        "# Plot Circle \n",
        "cir = plt.Circle((1.5, 1.5), 100, color='g',fill=False)\n",
        "ax.set_aspect('equal', adjustable='datalim')\n",
        "ax.add_patch(cir)\n",
        "plt.show()"
      ],
      "execution_count": null,
      "outputs": [
        {
          "output_type": "display_data",
          "data": {
            "image/png": "[encoded data removed]",
            "text/plain": [
              "<Figure size 720x576 with 1 Axes>"
            ]
          },
          "metadata": {
            "tags": [],
            "needs_background": "light"
          }
        }
      ]
    },
    {
      "cell_type": "markdown",
      "metadata": {
        "id": "z7EVzTghsXOB"
      },
      "source": [
        "Exercice 2"
      ]
    },
    {
      "cell_type": "markdown",
      "metadata": {
        "id": "4F7vzdfNgdD_"
      },
      "source": [
        "• We assume that all devices transmit over the same up-link channel using the same frequency\n",
        "f = 2GHz. We assume that propagation channels between the devices and the parameter server\n",
        "are attenuated by a path loss with β = 2 (β is the path loss exponent, the gains of antennas are\n",
        "assumed equal to 1) and a multipath fading following a Rayleigh distribution of mean µ = 1.\n",
        "Propose a function (in Python) that computes the channel capacity for each device at each\n",
        "communication round T. (no multiple access policy is used)."
      ]
    },
    {
      "cell_type": "code",
      "metadata": {
        "id": "B82vZBX6-vhm",
        "colab": {
          "base_uri": "https://localhost:8080/"
        },
        "outputId": "f8f2894a-9fb2-497b-8e96-455b9b736f7f"
      },
      "source": [
        "# function for Computing the distance beetween device and server \n",
        "def computeRadius(x,y) :\n",
        "  return np.sqrt(x**2 + y**2 )\n",
        "\n",
        "# function for Computing the parameter of rayleigh distribution \n",
        "def gammaRayleigh(meanrayleigh):\n",
        "  return meanrayleigh*np.sqrt(2/np.pi)\n",
        "\n",
        "# function for Computing the path loss\n",
        "def pathLoss(r,f,Pt,beta,Gr,Gt):\n",
        "  return 10*beta*np.log10((3*10**(8))/(4*np.pi*f*r)) + 10*np.log10(Pt) +  10*np.log10(Gr) + 10*np.log10(Gt)\n",
        "\n",
        "# function for Computing the power received \n",
        "def powerReceived(meanrayleigh,r,f,Pt,beta,Gr,Gt):\n",
        "  return 10*beta*np.log10((3*10**(8))/(4*np.pi*f*r)) - rayleigh(gammaRayleigh(meanrayleigh)) + 10*np.log10(Pt) +  10*np.log10(Gr) + 10*np.log10(Gt)\n",
        "\n",
        "# function for Computing the capacity of one device \n",
        "def  capacity(meanrayleigh,r,f,N,Pt=1,beta=2,Gr=1,Gt=1):\n",
        "  return np.log2( 1 + 10**( (powerReceived(meanrayleigh,r,f,Pt,beta,Gr,Gt) - 10*np.log10(N) ) / 10) )\n",
        "\n",
        "# function for Computing the capacity of whole devices \n",
        "def capacityForAllDevice():\n",
        "  C=[]\n",
        "  for i in range(1,len(x)):\n",
        "    C.append(capacity(1,computeRadius(x[i],y[i]),2*10**(9),10**(-14)))\n",
        "  return C\n",
        "C=capacityForAllDevice()\n",
        "print(\"The channel capacity for each device at each communication round T is : \\n\",C)"
      ],
      "execution_count": null,
      "outputs": [
        {
          "output_type": "stream",
          "text": [
            "The channel capacity for each device at each communication round T is : \n",
            " [22.766245715174527, 20.295329999761297, 23.32658584504093, 23.152330949763403, 26.37568130085718, 24.434568404625903, 21.585311357028, 21.61377528812926, 21.15635230173949, 21.32263862214304]\n"
          ],
          "name": "stdout"
        }
      ]
    },
    {
      "cell_type": "markdown",
      "metadata": {
        "id": "AkpsEXb3ry8c"
      },
      "source": [
        "# **Exercice 3**"
      ]
    },
    {
      "cell_type": "markdown",
      "metadata": {
        "id": "FStnbpd_gPhv"
      },
      "source": [
        "Assume that devices have access to MNIST dataset. The training set of MNIST is equally devided\n",
        "between devices ( 6000 image samples to each device). Using a federated learning procedure, each\n",
        "device i locally trains its dataset Di and sends the gradient descent vector to the central server\n",
        "for averaging. Due to resource-constrained communications, only a part of the gradient descent\n",
        "is transmitted using top-K sparsification scheme. Write a function that computes the maximum\n",
        "K for each channel that can be used for sparsification given a capacity C of the channel. (no\n",
        "quantization is assumed)\n",
        "\n",
        "Here for computing topK we use a method found in this article https://ecai2020.eu/papers/667_paper.pdf .The ideas is to send to the server the largest value of gradient and stock localy the smallest value. "
      ]
    },
    {
      "cell_type": "code",
      "metadata": {
        "id": "XaOBruNCgNe7",
        "colab": {
          "base_uri": "https://localhost:8080/"
        },
        "outputId": "5d03263b-b9c1-4770-b196-2ad82ffbf5f3"
      },
      "source": [
        "from scipy.special import comb\n",
        "# function for Computing the K weight  that device send to server \n",
        "def computeK(C,timedelay,d):\n",
        "  K=1\n",
        "  numbittosend = 33 * K + np.log2(comb(d,K)) \n",
        "  while (numbittosend < C*timedelay and K<d):\n",
        "    K+=1\n",
        "    numbittosend = 33  * K + np.log2(comb(d,K)) \n",
        "  return K-1\n",
        "\n",
        "# function for Computing the topK  \n",
        "def get_topK(Grad,C,timedelay):\n",
        "  # Getting tne number K\n",
        "  K = computeK(C,len(Grad),timedelay)\n",
        "  # Constructing dict of gradient and their positions\n",
        "  Gradabs=[abs(x) for x in Grad]\n",
        "  zip_grad = dict(zip(Gradabs, range(len(Grad))))\n",
        "  # Sorting the dict by value\n",
        "  grad_sorted = dict(sorted(zip_grad.items(), key=lambda item: item[0],reverse=True))\n",
        "  ind_topK = np.array(list(grad_sorted.values()))[0:K].tolist()\n",
        "  topK = np.array(Grad)[ind_topK] \n",
        "  \n",
        "  return topK,ind_topK\n",
        "\n",
        "Grad=[-100+random.random()*100 for _ in range(6)] + [random.random()*100 for _ in range(4)]\n",
        "topK,ind_topK = get_topK(Grad,20,9999)\n",
        "print(\"Grad is: \\n\",Grad)\n",
        "print(\"The TopK are : \\n\",topK)\n",
        "print(\"And their positions are : \\n\",ind_topK)"
      ],
      "execution_count": null,
      "outputs": [
        {
          "output_type": "stream",
          "text": [
            "Grad is: \n",
            " [-36.496337342958796, -77.37275473756267, -86.26929545817165, -20.849193014122164, -89.41029080694894, -64.06331847659965, 47.34223120860155, 51.85417537622487, 42.693009652157734, 29.154157650901368]\n",
            "The TopK are : \n",
            " [-89.41029081 -86.26929546 -77.37275474 -64.06331848]\n",
            "And their positions are : \n",
            " [4, 2, 1, 5]\n"
          ],
          "name": "stdout"
        }
      ]
    },
    {
      "cell_type": "markdown",
      "metadata": {
        "id": "H61zSWy0rLKb"
      },
      "source": [
        "# **Exercice 4**"
      ]
    },
    {
      "cell_type": "markdown",
      "metadata": {
        "id": "WOXUd7u5gsRm"
      },
      "source": [
        "(Optional) Propose a neural network model (ideally a convolutional neural network model), to\n",
        "predict the handwritten numbers of MNIST dataset. (Just the structure of the model in terms\n",
        "of layers and nodes)"
      ]
    },
    {
      "cell_type": "markdown",
      "metadata": {
        "id": "h7dhzLgQ4QeU"
      },
      "source": [
        "The MNIST dataset is an acronym that stands for the Modified National Institute of Standards and Technology dataset.\n",
        "\n",
        "It is a dataset of 60,000 small square 28×28 pixel grayscale images of handwritten single digits between 0 and 9.\n",
        "\n",
        "The task is to classify a given image of a handwritten digit into one of 10 classes representing integer values from 0 to 9, inclusively.\n",
        "\n",
        "It is a widely used and deeply understood dataset and, for the most part, is “solved.” Top-performing models are deep learning convolutional neural networks that achieve a classification accuracy of above 99%, with an error rate between 0.4 %and 0.2% on the hold out test dataset.\n",
        "\n",
        "The example below loads the MNIST dataset using the Keras API and creates a plot of the first nine images in the training dataset."
      ]
    },
    {
      "cell_type": "code",
      "metadata": {
        "id": "JPwqNEponmxq",
        "colab": {
          "base_uri": "https://localhost:8080/",
          "height": 302
        },
        "outputId": "c91ecb84-e93c-41d8-f9a7-93304bba3938"
      },
      "source": [
        "#loading the mnist dataset using keras API\n",
        "(trainX, trainy), (testX, testy) = mnist.load_data()\n",
        "# summarize loaded dataset\n",
        "print('Train: X = ',trainX.shape, ' y = ' ,trainy.shape)\n",
        "print('Train: X = ',testX.shape, ' y = ' ,testy.shape)\n",
        "# plot first few images\n",
        "for i in range(9):\n",
        "\t# define subplot\n",
        "\tplt.subplot(330 + 1 + i)\n",
        "\t# plot raw pixel data\n",
        "\tplt.imshow(trainX[i], cmap=plt.get_cmap('gray'))\n",
        "# show the figure\n",
        "plt.show()"
      ],
      "execution_count": null,
      "outputs": [
        {
          "output_type": "stream",
          "text": [
            "Train: X =  (60000, 28, 28)  y =  (60000,)\n",
            "Train: X =  (10000, 28, 28)  y =  (10000,)\n"
          ],
          "name": "stdout"
        },
        {
          "output_type": "display_data",
          "data": {
            "image/png": "[encoded data removed]",
            "text/plain": [
              "<Figure size 432x288 with 9 Axes>"
            ]
          },
          "metadata": {
            "tags": [],
            "needs_background": "light"
          }
        }
      ]
    },
    {
      "cell_type": "markdown",
      "metadata": {
        "id": "Gny8W3HhShEL"
      },
      "source": [
        "Define model"
      ]
    },
    {
      "cell_type": "markdown",
      "metadata": {
        "id": "qrf5t--N0Yr7"
      },
      "source": [
        "The model has two main aspects: the feature extraction front end comprised of convolutional and pooling layers, and the classifier backend that will make a prediction.\n",
        "\n",
        "For the convolutional front-end, we can start with a single convolutional layer with a small filter size (3,3) and a modest number of filters (32) followed by a max pooling layer. The filter maps can then be flattened to provide features to the classifier.\n",
        "\n",
        "Given that the problem is a multi-class classification task, we know that we will require an output layer with 10 nodes in order to predict the probability distribution of an image belonging to each of the 10 classes. This will also require the use of a softmax activation function. Between the feature extractor and the output layer, we can add a dense layer to interpret the features, in this case with 100 nodes.\n",
        "\n",
        "All layers will use the ReLU activation function and the He weight initialization scheme, both best practices.\n",
        "\n",
        "We will use a conservative configuration for the stochastic gradient descent optimizer with a learning rate of 0.01 and a momentum of 0.9. The categorical cross-entropy loss function will be optimized, suitable for multi-class classification, and we will monitor the classification accuracy metric, which is appropriate given we have the same number of examples in each of the 10 classes.\n",
        "\n",
        "The define_model() function below will define and return this model.\n",
        "\n",
        "There are many ways to change the model configuration in order to explore improvements over the reference model.\n",
        "\n",
        "Two common approaches involve changing the capacity of the feature extraction part of the model or changing the capacity or function of the classifier part of the model. Perhaps the most influential point is a change in the feature extractor.\n",
        "\n",
        "Increase in Model Depth\n",
        "\n",
        "We can increase the depth of the feature extractor part of the model, following a VGG-like pattern of adding more convolutional and grouping layers with the same filter size, while increasing the number of filters. In this case we will add a double convolution layer with 64 filters each, followed by another max pooling layer.\n",
        "\n",
        "The updated version of the define_model_opt () function with this change is listed below.\n",
        "\n",
        "Two examples of execution is given below with first model and second model."
      ]
    },
    {
      "cell_type": "code",
      "metadata": {
        "id": "-1NDUBt0IM4C"
      },
      "source": [
        "# define cnn model\n",
        "def define_model():\n",
        "\tmodel = Sequential()\n",
        "\tmodel.add(Conv2D(32, (3, 3), activation='relu', kernel_initializer='he_uniform', input_shape=(28, 28, 1)))\n",
        "\tmodel.add(MaxPooling2D((2, 2)))\n",
        "\tmodel.add(Flatten())\n",
        "\tmodel.add(Dense(100, activation='relu', kernel_initializer='he_uniform'))\n",
        "\tmodel.add(Dense(10, activation='softmax'))\n",
        "\t# compile model\n",
        "\topt = SGD(lr=0.01, momentum=0.9)\n",
        "\tmodel.compile(optimizer=opt, loss='categorical_crossentropy', metrics=['accuracy'])\n",
        "\treturn model\n",
        "\n",
        "def define_model_opt(classes):\n",
        "\t# initialize the input shape and channels dimension to be\n",
        "\t# \"channels last\" ordering\n",
        "\tinputShape = (28, 28, 1, 10)\n",
        "\tchanDim = -1\n",
        "\t# build the model using Keras' Sequential API\n",
        "\tmodel = Sequential([\n",
        "\t\t# CONV => RELU => BN => POOL layer set\n",
        "\t\tConv2D(16, (3, 3), padding=\"same\", input_shape=inputShape),\n",
        "\t\tActivation(\"relu\"),\n",
        "\t\tBatchNormalization(axis=chanDim),\n",
        "\t\tMaxPooling2D(pool_size=(2, 2)),\n",
        "\t\t# (CONV => RELU => BN) * 2 => POOL layer set\n",
        "\t\tConv2D(32, (3, 3), padding=\"same\"),\n",
        "\t\tActivation(\"relu\"),\n",
        "\t\tBatchNormalization(axis=chanDim),\n",
        "\t\tConv2D(32, (3, 3), padding=\"same\"),\n",
        "\t\tActivation(\"relu\"),\n",
        "\t\tBatchNormalization(axis=chanDim),\n",
        "\t\tMaxPooling2D(pool_size=(2, 2)),\n",
        "\t\t# (CONV => RELU => BN) * 3 => POOL layer set\n",
        "\t\tConv2D(64, (3, 3), padding=\"same\"),\n",
        "\t\tActivation(\"relu\"),\n",
        "\t\tBatchNormalization(axis=chanDim),\n",
        "\t\tConv2D(64, (3, 3), padding=\"same\"),\n",
        "\t\tActivation(\"relu\"),\n",
        "\t\tBatchNormalization(axis=chanDim),\n",
        "\t\tConv2D(64, (3, 3), padding=\"same\"),\n",
        "\t\tActivation(\"relu\"),\n",
        "\t\tBatchNormalization(axis=chanDim),\n",
        "\t\tMaxPooling2D(pool_size=(2, 2)),\n",
        "\t\t# first (and only) set of FC => RELU layers\n",
        "\t\tFlatten(),\n",
        "\t\tDense(256),\n",
        "\t\tActivation(\"relu\"),\n",
        "\t\tBatchNormalization(),\n",
        "\t\tDropout(0.5),\n",
        "\t\t# softmax classifier\n",
        "\t\tDense(classes),\n",
        "\t\tActivation(\"softmax\")\n",
        "\t])\n",
        "  \n",
        "\t# return the built model to the calling function\n",
        "\treturn model.compile(optimizer=opt, loss=categorical_crossentropy,metrics=[\"acc\"])\n",
        "\n"
      ],
      "execution_count": null,
      "outputs": []
    },
    {
      "cell_type": "markdown",
      "metadata": {
        "id": "VgcenjhHIOBF"
      },
      "source": [
        "Example 1"
      ]
    },
    {
      "cell_type": "code",
      "metadata": {
        "id": "hG2n_D7YKb9w",
        "colab": {
          "base_uri": "https://localhost:8080/",
          "height": 685
        },
        "outputId": "b942e13e-b20b-4081-ea2c-e002332033f7"
      },
      "source": [
        "\n",
        "# load train and test dataset\n",
        "def load_dataset():\n",
        "\t# load dataset\n",
        "\t(trainX, trainY), (testX, testY) = mnist.load_data()\n",
        "\t# reshape dataset to have a single channel\n",
        "\ttrainX = trainX.reshape((trainX.shape[0], 28, 28, 1))\n",
        "\ttestX = testX.reshape((testX.shape[0], 28, 28, 1))\n",
        "\t# one hot encode target values\n",
        "\ttrainY = to_categorical(trainY)\n",
        "\ttestY = to_categorical(testY)\n",
        "\treturn trainX, trainY, testX, testY\n",
        "\n",
        "# scale pixels\n",
        "def prep_pixels(train, test):\n",
        "\t# convert from integers to floats\n",
        "\ttrain_norm = train.astype('float32')\n",
        "\ttest_norm = test.astype('float32')\n",
        "\t# normalize to range 0-1\n",
        "\ttrain_norm = train_norm / 255.0\n",
        "\ttest_norm = test_norm / 255.0\n",
        "\t# return normalized images\n",
        "\treturn train_norm, test_norm\n",
        "\n",
        "# define cnn model\n",
        "def define_model():\n",
        "\tmodel = Sequential()\n",
        "\tmodel.add(Conv2D(32, (3, 3), activation='relu', kernel_initializer='he_uniform', input_shape=(28, 28, 1)))\n",
        "\tmodel.add(MaxPooling2D((2, 2)))\n",
        "\tmodel.add(Flatten())\n",
        "\tmodel.add(Dense(100, activation='relu', kernel_initializer='he_uniform'))\n",
        "\tmodel.add(Dense(10, activation='softmax'))\n",
        "\t# compile model\n",
        "\topt = SGD(lr=0.01, momentum=0.9)\n",
        "\tmodel.compile(optimizer=opt, loss='categorical_crossentropy', metrics=['accuracy'])\n",
        "\treturn model\n",
        "\n",
        "# evaluate a model using k-fold cross-validation\n",
        "def evaluate_model(dataX, dataY, n_folds=5):\n",
        "\tscores, histories = list(), list()\n",
        "\t# prepare cross validation\n",
        "\tkfold = KFold(n_folds, shuffle=True, random_state=1)\n",
        "\t# enumerate splits\n",
        "\tfor train_ix, test_ix in kfold.split(dataX):\n",
        "\t\t# define model\n",
        "\t\tmodel = define_model()\n",
        "\t\t# select rows for train and test\n",
        "\t\ttrainX, trainY, testX, testY = dataX[train_ix], dataY[train_ix], dataX[test_ix], dataY[test_ix]\n",
        "\t\t# fit model\n",
        "\t\thistory = model.fit(trainX, trainY, epochs=10, batch_size=32, validation_data=(testX, testY), verbose=0)\n",
        "\t\t# evaluate model\n",
        "\t\t_, acc = model.evaluate(testX, testY, verbose=0)\n",
        "\t\tprint('> %.3f' % (acc * 100.0))\n",
        "\t\t# stores scores\n",
        "\t\tscores.append(acc)\n",
        "\t\thistories.append(history)\n",
        "\treturn scores, histories\n",
        "\n",
        "# plot diagnostic learning curves\n",
        "def summarize_diagnostics(histories):\n",
        "\tfor i in range(len(histories)):\n",
        "\t\t# plot loss\n",
        "\t\tplt.subplot(2, 1, 1)\n",
        "\t\tplt.title('Cross Entropy Loss')\n",
        "\t\tplt.plot(histories[i].history['loss'], color='blue', label='train')\n",
        "\t\tplt.plot(histories[i].history['val_loss'], color='orange', label='test')\n",
        "\t\t# plot accuracy\n",
        "\t\tplt.subplot(2, 1, 2)\n",
        "\t\tplt.title('Classification Accuracy')\n",
        "\t\tplt.plot(histories[i].history['accuracy'], color='blue', label='train')\n",
        "\t\tplt.plot(histories[i].history['val_accuracy'], color='orange', label='test')\n",
        "\tplt.show()\n",
        "\n",
        "# summarize model performance\n",
        "def summarize_performance(scores):\n",
        "\t# print summary\n",
        "\tprint('Accuracy: mean=%.3f std=%.3f, n=%d' % (mean(scores)*100, std(scores)*100, len(scores)))\n",
        "\t# box and whisker plots of results\n",
        "\tplt.boxplot(scores)\n",
        "\tplt.show()\n",
        "\n",
        "# run the test harness for evaluating a model\n",
        "def run_test_harness():\n",
        "\t# load dataset\n",
        "\ttrainX, trainY, testX, testY = load_dataset()\n",
        "\t# prepare pixel data\n",
        "\ttrainX, testX = prep_pixels(trainX, testX)\n",
        "\t# evaluate model\n",
        "\tscores, histories = evaluate_model(trainX, trainY)\n",
        "\t# learning curves\n",
        "\tsummarize_diagnostics(histories)\n",
        "\t# summarize estimated performance\n",
        "\tsummarize_performance(scores)\n",
        "\n",
        "# entry point, run the test harness\n",
        "run_test_harness()\n",
        "model = define_model()"
      ],
      "execution_count": null,
      "outputs": [
        {
          "output_type": "stream",
          "text": [
            "> 98.592\n",
            "> 98.733\n",
            "> 98.575\n",
            "> 98.817\n",
            "> 98.808\n"
          ],
          "name": "stdout"
        },
        {
          "output_type": "stream",
          "text": [
            "/usr/local/lib/python3.6/dist-packages/ipykernel_launcher.py:63: MatplotlibDeprecationWarning: Adding an axes using the same arguments as a previous axes currently reuses the earlier instance.  In a future version, a new instance will always be created and returned.  Meanwhile, this warning can be suppressed, and the future behavior ensured, by passing a unique label to each axes instance.\n",
            "/usr/local/lib/python3.6/dist-packages/ipykernel_launcher.py:68: MatplotlibDeprecationWarning: Adding an axes using the same arguments as a previous axes currently reuses the earlier instance.  In a future version, a new instance will always be created and returned.  Meanwhile, this warning can be suppressed, and the future behavior ensured, by passing a unique label to each axes instance.\n"
          ],
          "name": "stderr"
        },
        {
          "output_type": "display_data",
          "data": {
            "image/png": "[encoded data removed]",
            "text/plain": [
              "<Figure size 432x288 with 2 Axes>"
            ]
          },
          "metadata": {
            "tags": [],
            "needs_background": "light"
          }
        },
        {
          "output_type": "stream",
          "text": [
            "Accuracy: mean=98.705 std=0.104, n=5\n"
          ],
          "name": "stdout"
        },
        {
          "output_type": "display_data",
          "data": {
            "image/png": "[encoded data removed]",
            "text/plain": [
              "<Figure size 432x288 with 1 Axes>"
            ]
          },
          "metadata": {
            "tags": [],
            "needs_background": "light"
          }
        }
      ]
    },
    {
      "cell_type": "markdown",
      "metadata": {
        "id": "4x-xtYbcKfFp"
      },
      "source": [
        "Exemple 2"
      ]
    },
    {
      "cell_type": "code",
      "metadata": {
        "id": "f9IkzuOUsq_v",
        "colab": {
          "base_uri": "https://localhost:8080/"
        },
        "outputId": "a5f571bf-891d-4e2f-8941-edfa5c453b6a"
      },
      "source": [
        "def build_model(width, height, depth, classes):\n",
        "\t# initialize the input shape and channels dimension to be\n",
        "\t# \"channels last\" ordering\n",
        "\tinputShape = (height, width, depth)\n",
        "\tchanDim = -1\n",
        "\t# build the model using Keras' Sequential API\n",
        "\tmodel = Sequential([\n",
        "\t\t# CONV => RELU => BN => POOL layer set\n",
        "\t\tConv2D(16, (3, 3), padding=\"same\", input_shape=inputShape),\n",
        "\t\tActivation(\"relu\"),\n",
        "\t\tBatchNormalization(axis=chanDim),\n",
        "\t\tMaxPooling2D(pool_size=(2, 2)),\n",
        "\t\t# (CONV => RELU => BN) * 2 => POOL layer set\n",
        "\t\tConv2D(32, (3, 3), padding=\"same\"),\n",
        "\t\tActivation(\"relu\"),\n",
        "\t\tBatchNormalization(axis=chanDim),\n",
        "\t\tConv2D(32, (3, 3), padding=\"same\"),\n",
        "\t\tActivation(\"relu\"),\n",
        "\t\tBatchNormalization(axis=chanDim),\n",
        "\t\tMaxPooling2D(pool_size=(2, 2)),\n",
        "\t\t# (CONV => RELU => BN) * 3 => POOL layer set\n",
        "\t\tConv2D(64, (3, 3), padding=\"same\"),\n",
        "\t\tActivation(\"relu\"),\n",
        "\t\tBatchNormalization(axis=chanDim),\n",
        "\t\tConv2D(64, (3, 3), padding=\"same\"),\n",
        "\t\tActivation(\"relu\"),\n",
        "\t\tBatchNormalization(axis=chanDim),\n",
        "\t\tConv2D(64, (3, 3), padding=\"same\"),\n",
        "\t\tActivation(\"relu\"),\n",
        "\t\tBatchNormalization(axis=chanDim),\n",
        "\t\tMaxPooling2D(pool_size=(2, 2)),\n",
        "\t\t# first (and only) set of FC => RELU layers\n",
        "\t\tFlatten(),\n",
        "\t\tDense(256),\n",
        "\t\tActivation(\"relu\"),\n",
        "\t\tBatchNormalization(),\n",
        "\t\tDropout(0.5),\n",
        "\t\t# softmax classifier\n",
        "\t\tDense(classes),\n",
        "\t\tActivation(\"softmax\")\n",
        "\t])\n",
        "\t# return the built model to the calling function\n",
        "\treturn model\n",
        "\n",
        "def step(X, y):\n",
        "  # keep track of our gradients\n",
        "  with tf.GradientTape() as tape:\n",
        "    # make a prediction using the model and then calculate the\n",
        "    # loss\n",
        "    pred = model(X)\n",
        "    loss = categorical_crossentropy(y, pred)\n",
        "  # calculate the gradients using our tape and then update the\n",
        "  # model weights\n",
        "  grads = tape.gradient(loss, model.trainable_variables)\n",
        "  opt.apply_gradients(zip(grads, model.trainable_variables))\n",
        "  return grads\n",
        " \n",
        "# initialize the number of epochs to train for, batch size, and\n",
        "# initial learning rate\n",
        "EPOCHS = 3\n",
        "BS = 64\n",
        "INIT_LR = 1e-3\n",
        "\n",
        "# load the MNIST dataset\n",
        "print(\"[INFO] loading MNIST dataset...\")\n",
        "((trainX, trainY), (testX, testY)) = mnist.load_data()\n",
        "# add a channel dimension to every image in the dataset, then scale\n",
        "# the pixel intensities to the range [0, 1]\n",
        "trainX = np.expand_dims(trainX, axis=-1)\n",
        "testX = np.expand_dims(testX, axis=-1)\n",
        "trainX = trainX.astype(\"float32\") / 255.0\n",
        "testX = testX.astype(\"float32\") / 255.0\n",
        "# one-hot encode the labels\n",
        "trainY = to_categorical(trainY, 10)\n",
        "testY = to_categorical(testY, 10)\n",
        "\n",
        "# build our model and initialize our optimizer\n",
        "print(\"[INFO] creating model...\")\n",
        "model = build_model(28, 28, 1, 10)\n",
        "opt = Adam(lr=INIT_LR, decay=INIT_LR / EPOCHS)\n",
        "\n",
        "# compute the number of batch updates per epoch\n",
        "numUpdates = int(trainX.shape[0] / BS)\n",
        "GRAD=[]\n",
        "# loop over the number of epochs\n",
        "for epoch in range(0, EPOCHS):\n",
        "  # show the current epoch number\n",
        "  print(\"[INFO] starting epoch {}/{}...\".format(\n",
        "    epoch + 1, EPOCHS), end=\"\")\n",
        "  sys.stdout.flush()\n",
        "  epochStart = time.time()\n",
        "  # loop over the data in batch size increments\n",
        "  for i in range(0, numUpdates):\n",
        "    # determine starting and ending slice indexes for the current\n",
        "    # batch\n",
        "    start = i * BS\n",
        "    end = start + BS\n",
        "    # take a step\n",
        "    gr=step(trainX[start:end], trainY[start:end])\n",
        "\t# show timing information for the epoch\n",
        "  epochEnd = time.time()\n",
        "  elapsed = (epochEnd - epochStart) / 60.0\n",
        "  print(\"took {:.4} minutes\".format(elapsed))\n",
        "\n",
        "GRAD.append(gr)\n",
        " \n",
        "# in order to calculate accuracy using Keras' functions we first need\n",
        "# to compile the model\n",
        "model.compile(optimizer=opt, loss=categorical_crossentropy,\n",
        "\tmetrics=[\"acc\"])\n",
        "# now that the model is compiled we can compute the accuracy\n",
        "(loss, acc) = model.evaluate(testX, testY)\n",
        "print(\"[INFO] test accuracy: {:.4f}\".format(acc))\n",
        "\n"
      ],
      "execution_count": null,
      "outputs": [
        {
          "output_type": "stream",
          "text": [
            "[INFO] loading MNIST dataset...\n",
            "[INFO] creating model...\n",
            "[INFO] starting epoch 1/3...took 0.3091 minutes\n",
            "[INFO] starting epoch 2/3...took 0.3073 minutes\n",
            "[INFO] starting epoch 3/3...took 0.3089 minutes\n",
            "313/313 [==============================] - 1s 3ms/step - loss: 0.0460 - acc: 0.9858\n",
            "[INFO] test accuracy: 0.9895\n"
          ],
          "name": "stdout"
        }
      ]
    },
    {
      "cell_type": "markdown",
      "metadata": {
        "id": "KRFEDl6Cpk-1"
      },
      "source": [
        "# **Eercice 5**"
      ]
    },
    {
      "cell_type": "markdown",
      "metadata": {
        "id": "ISP-V_tApgWw"
      },
      "source": [
        "(Optional) Implement the process of federated learning (computation of local gradients at the\n",
        "devices, sparisification, and averaging). Assume that the sparsified vector is correctly received\n",
        "at the parameter server. How many iterations are needed for your proposed model to converge.\n",
        "What is the accuracy of the test using your proposed model?"
      ]
    },
    {
      "cell_type": "code",
      "metadata": {
        "colab": {
          "base_uri": "https://localhost:8080/"
        },
        "id": "sMrrjHs9Qd2Y",
        "outputId": "3a98ed6b-f7cb-4c8f-debe-28cca41608c2"
      },
      "source": [
        "#Create local dataset for each device\n",
        "def create_devices_data(image_list, label_list, num_devices=10, initial='device'):\n",
        "    ''' return: a dictionary with keys 'device' name and value as \n",
        "                data shards - tuple of images and label lists.\n",
        "        args: \n",
        "            image_list: a list of numpy arrays of training images\n",
        "            label_list:a list of binarized labels for each image\n",
        "            num_device: number of fedrated members (device)\n",
        "            initial: the devices'name prefix, e.g, device_1 \n",
        "            \n",
        "    '''\n",
        " \n",
        "    #create a list of client names\n",
        "    device_names = ['{}_{}'.format(initial, i+1) for i in range(num_devices)]\n",
        " \n",
        "    #randomize the data\n",
        "    data = list(zip(image_list, label_list))\n",
        "    random.shuffle(data)\n",
        " \n",
        "    #shard data and place at each client\n",
        "    size = len(data)//num_devices\n",
        "    shards = [data[i:i + size] for i in range(0, size*num_devices, size)]\n",
        " \n",
        "    #number of devices must equal number of shards\n",
        "    assert(len(shards) == len(device_names))\n",
        " \n",
        "    return {device_names[i] : shards[i] for i in range(len(device_names))} \n",
        " \n",
        " \n",
        "def build_model(width, height, depth, classes):\n",
        "    # initialize the input shape and channels dimension to be\n",
        "    # \"channels last\" ordering\n",
        "    inputShape = (height, width, depth)\n",
        "    chanDim = -1\n",
        "    # build the model using Keras' Sequential API\n",
        "    model = Sequential([\n",
        "        # CONV => RELU => BN => POOL layer set\n",
        "        Conv2D(16, (3, 3), padding=\"same\", input_shape=inputShape),\n",
        "        Activation(\"relu\"),\n",
        "        BatchNormalization(axis=chanDim),\n",
        "        MaxPooling2D(pool_size=(2, 2)),\n",
        "        # (CONV => RELU => BN) * 2 => POOL layer set\n",
        "        Conv2D(32, (3, 3), padding=\"same\"),\n",
        "        Activation(\"relu\"),\n",
        "        BatchNormalization(axis=chanDim),\n",
        "        Conv2D(32, (3, 3), padding=\"same\"),\n",
        "        Activation(\"relu\"),\n",
        "        BatchNormalization(axis=chanDim),\n",
        "        MaxPooling2D(pool_size=(2, 2)),\n",
        "        # (CONV => RELU => BN) * 3 => POOL layer set\n",
        "        Conv2D(64, (3, 3), padding=\"same\"),\n",
        "        Activation(\"relu\"),\n",
        "        BatchNormalization(axis=chanDim),\n",
        "        Conv2D(64, (3, 3), padding=\"same\"),\n",
        "        Activation(\"relu\"),\n",
        "        BatchNormalization(axis=chanDim),\n",
        "        Conv2D(64, (3, 3), padding=\"same\"),\n",
        "        Activation(\"relu\"),\n",
        "        BatchNormalization(axis=chanDim),\n",
        "        MaxPooling2D(pool_size=(2, 2)),\n",
        "        # first (and only) set of FC => RELU layers\n",
        "        Flatten(),\n",
        "        Dense(256),\n",
        "        Activation(\"relu\"),\n",
        "        BatchNormalization(),\n",
        "        Dropout(0.5),\n",
        "        # softmax classifier\n",
        "        Dense(classes),\n",
        "        Activation(\"softmax\")\n",
        "    ])\n",
        "    # return the built model to the calling function\n",
        "    return model\n",
        " \n",
        " \n",
        "def step(X, y):\n",
        "  # keep track of our gradients\n",
        "  with tf.GradientTape() as tape:\n",
        "    # make a prediction using the model and then calculate the\n",
        "    # loss\n",
        "    pred = model(X)\n",
        "    loss = categorical_crossentropy(y, pred)\n",
        "  # calculate the gradients using our tape and then update the\n",
        "  # model weights\n",
        "  grads = tape.gradient(loss, model.trainable_variables)\n",
        "  opt.apply_gradients(zip(grads, model.trainable_variables))\n",
        "  return grads\n",
        " \n",
        " \n",
        "def trainModel(trainX, trainY,Xtest, Ytest):\n",
        "  # initialize the number of epochs to train for, batch size, and\n",
        "  # initial learning rate\n",
        "  EPOCHS = 10\n",
        "  BS = 64\n",
        "  INIT_LR = 1e-3\n",
        "  # build our model and initialize our optimizer\n",
        "  print(\"[INFO] creating model...\")\n",
        "  model = build_model(28, 28, 1, 10)\n",
        "  opt = Adam(lr=INIT_LR, decay=INIT_LR / EPOCHS)\n",
        " \n",
        "  # compute the number of batch updates per epoch\n",
        "  numUpdates = int(trainX.shape[0] / BS)\n",
        "  GRAD=[]\n",
        "  gr=[]\n",
        "  # loop over the number of epochs\n",
        "  for epoch in range(0, EPOCHS):\n",
        "      # show the current epoch number\n",
        "      print(\"[INFO] starting epoch {}/{}...\".format(\n",
        "      epoch + 1, EPOCHS), end=\"\")\n",
        "      sys.stdout.flush()\n",
        "      epochStart = time.time()\n",
        "      # loop over the data in batch size increments\n",
        "      for i in range(0, numUpdates):\n",
        "       # determine starting and ending slice indexes for the current\n",
        "       # batch\n",
        "          start = i * BS\n",
        "          end = start + BS\n",
        "          # take a step\n",
        "          gr=step(trainX[start:end], trainY[start:end])\n",
        "    # show timing information for the epoch\n",
        "  epochEnd = time.time()\n",
        "  elapsed = (epochEnd - epochStart) / 60.0\n",
        "  print(\"took {:.4} minutes\".format(elapsed))\n",
        "  GRAD.append(gr)\n",
        "  model.compile(optimizer=opt, loss=categorical_crossentropy,\n",
        "    metrics=[\"acc\"])\n",
        "  (loss, acc) = model.evaluate(Xtest, Ytest)\n",
        "  return model,GRAD,loss,acc\n",
        " \n",
        "ACC=[]\n",
        "def run_global(timedelay):\n",
        "    # Loading dataset\n",
        "    Xtrain, Ytrain, Xtest, Ytest = load_dataset()\n",
        "    # Spliting data for each device\n",
        "    clusters = create_devices_data(Xtrain, Ytrain, num_devices=10, initial='device')\n",
        "    # create a dictionnary which contain weight and indices which device send to the server\n",
        "    Tosend={}\n",
        "    # Compute capacity for\n",
        "    C=capacityForAllDevice()\n",
        "    k=0\n",
        "    # Main loop for federativ learning\n",
        " \n",
        "    for device in clusters.keys():\n",
        "        trainX=[]\n",
        "        trainY=[]\n",
        " \n",
        "       # get data for device\n",
        "        for i in range(len(clusters[device])) :\n",
        "          trainX.append(clusters[device][i][0])\n",
        "          trainY.append(clusters[device][i][1])\n",
        "        \n",
        "        trainX=np.array(trainX)\n",
        "        trainY=np.array(trainY)\n",
        " \n",
        "         # normalize data\n",
        "        # trainX = np.expand_dims(trainX, axis=-1)\n",
        "        # trainX = trainX.astype(\"float32\") / 255.0\n",
        "        # Xtest = np.expand_dims(Xtest, axis=-1)\n",
        "        # Xtest = Xtest.astype(\"float32\") / 255.0\n",
        "        trainX, testX = prep_pixels(trainX, Xtest[0:1000])\n",
        "        testY=Ytest[0:1000]\n",
        "        print(f\"Traing for {device}\")  \n",
        "        model, grad ,loss,acc= trainModel(trainX, trainY, testX, testY)\n",
        "        print(\"[INFO] test accuracy: {:.4f}\".format(acc))\n",
        "        ACC.append(acc)\n",
        "    # get gradient\n",
        "        gs=[]\n",
        "        for i in range(np.array(grad[-1]).shape[0]):\n",
        "          gs=gs+list(np.array(np.array(np.array(grad[-1])[i]).flatten()))\n",
        "        \n",
        "        # get weight\n",
        "        weight=[]\n",
        "        w=model.trainable_weights\n",
        "        for x in w :\n",
        "          weight=weight+list(np.array(x).flatten())\n",
        " \n",
        "        # find top k\n",
        "        toK,ind_toK = get_topK(gs,C[k],timedelay)\n",
        "        k+=1\n",
        " \n",
        "    # Send the k weight and their positionto the server\n",
        "        Tosend[device]=[np.array(weight)[ind_toK],ind_toK]\n",
        "    \n",
        "    print(\"[INFO] Total accuracy: {:.4f}\".format(np.mean(ACC)))\n",
        "    return Tosend\n",
        " \n",
        "T=run_global(9999)"
      ],
      "execution_count": null,
      "outputs": [
        {
          "output_type": "stream",
          "text": [
            "Traing for device_1\n",
            "[INFO] creating model...\n",
            "[INFO] starting epoch 1/10...[INFO] starting epoch 2/10...[INFO] starting epoch 3/10...[INFO] starting epoch 4/10...[INFO] starting epoch 5/10...[INFO] starting epoch 6/10...[INFO] starting epoch 7/10...[INFO] starting epoch 8/10...[INFO] starting epoch 9/10...[INFO] starting epoch 10/10...took 0.03024 minutes\n",
            "32/32 [==============================] - 0s 3ms/step - loss: 2.3016 - acc: 0.1378\n",
            "[INFO] test accuracy: 0.1330\n"
          ],
          "name": "stdout"
        },
        {
          "output_type": "stream",
          "text": [
            "/usr/local/lib/python3.6/dist-packages/ipykernel_launcher.py:167: VisibleDeprecationWarning: Creating an ndarray from ragged nested sequences (which is a list-or-tuple of lists-or-tuples-or ndarrays with different lengths or shapes) is deprecated. If you meant to do this, you must specify 'dtype=object' when creating the ndarray\n",
            "/usr/local/lib/python3.6/dist-packages/ipykernel_launcher.py:168: VisibleDeprecationWarning: Creating an ndarray from ragged nested sequences (which is a list-or-tuple of lists-or-tuples-or ndarrays with different lengths or shapes) is deprecated. If you meant to do this, you must specify 'dtype=object' when creating the ndarray\n"
          ],
          "name": "stderr"
        },
        {
          "output_type": "stream",
          "text": [
            "Traing for device_2\n",
            "[INFO] creating model...\n",
            "[INFO] starting epoch 1/10...[INFO] starting epoch 2/10...[INFO] starting epoch 3/10...[INFO] starting epoch 4/10...[INFO] starting epoch 5/10...[INFO] starting epoch 6/10...[INFO] starting epoch 7/10...[INFO] starting epoch 8/10...[INFO] starting epoch 9/10...[INFO] starting epoch 10/10...took 0.03025 minutes\n",
            "32/32 [==============================] - 0s 3ms/step - loss: 2.3032 - acc: 0.0873\n",
            "[INFO] test accuracy: 0.0870\n",
            "Traing for device_3\n",
            "[INFO] creating model...\n",
            "[INFO] starting epoch 1/10...[INFO] starting epoch 2/10...[INFO] starting epoch 3/10...[INFO] starting epoch 4/10...[INFO] starting epoch 5/10...[INFO] starting epoch 6/10...[INFO] starting epoch 7/10...[INFO] starting epoch 8/10...[INFO] starting epoch 9/10...[INFO] starting epoch 10/10...took 0.03017 minutes\n",
            "32/32 [==============================] - 0s 3ms/step - loss: 2.3017 - acc: 0.0984\n",
            "[INFO] test accuracy: 0.0830\n",
            "Traing for device_4\n",
            "[INFO] creating model...\n",
            "[INFO] starting epoch 1/10...[INFO] starting epoch 2/10...[INFO] starting epoch 3/10...[INFO] starting epoch 4/10...[INFO] starting epoch 5/10...[INFO] starting epoch 6/10...[INFO] starting epoch 7/10...[INFO] starting epoch 8/10...[INFO] starting epoch 9/10...[INFO] starting epoch 10/10...took 0.03001 minutes\n",
            "32/32 [==============================] - 1s 3ms/step - loss: 2.2998 - acc: 0.0929\n",
            "[INFO] test accuracy: 0.0760\n",
            "Traing for device_5\n",
            "[INFO] creating model...\n",
            "[INFO] starting epoch 1/10...[INFO] starting epoch 2/10...[INFO] starting epoch 3/10...[INFO] starting epoch 4/10...[INFO] starting epoch 5/10...[INFO] starting epoch 6/10...[INFO] starting epoch 7/10...[INFO] starting epoch 8/10...[INFO] starting epoch 9/10...[INFO] starting epoch 10/10...took 0.03071 minutes\n",
            "32/32 [==============================] - 0s 3ms/step - loss: 2.3019 - acc: 0.1113\n",
            "[INFO] test accuracy: 0.1200\n",
            "Traing for device_6\n",
            "[INFO] creating model...\n",
            "[INFO] starting epoch 1/10...[INFO] starting epoch 2/10...[INFO] starting epoch 3/10...[INFO] starting epoch 4/10...[INFO] starting epoch 5/10...[INFO] starting epoch 6/10...[INFO] starting epoch 7/10...[INFO] starting epoch 8/10...[INFO] starting epoch 9/10...[INFO] starting epoch 10/10...took 0.03065 minutes\n",
            "32/32 [==============================] - 0s 3ms/step - loss: 2.3008 - acc: 0.1059\n",
            "[INFO] test accuracy: 0.0940\n",
            "Traing for device_7\n",
            "[INFO] creating model...\n",
            "[INFO] starting epoch 1/10...[INFO] starting epoch 2/10...[INFO] starting epoch 3/10...[INFO] starting epoch 4/10...[INFO] starting epoch 5/10...[INFO] starting epoch 6/10...[INFO] starting epoch 7/10...[INFO] starting epoch 8/10...[INFO] starting epoch 9/10...[INFO] starting epoch 10/10...took 0.03024 minutes\n",
            "32/32 [==============================] - 0s 3ms/step - loss: 2.3024 - acc: 0.1527\n",
            "[INFO] test accuracy: 0.1550\n",
            "Traing for device_8\n",
            "[INFO] creating model...\n",
            "[INFO] starting epoch 1/10...[INFO] starting epoch 2/10...[INFO] starting epoch 3/10...[INFO] starting epoch 4/10...[INFO] starting epoch 5/10...[INFO] starting epoch 6/10...[INFO] starting epoch 7/10...[INFO] starting epoch 8/10...[INFO] starting epoch 9/10...[INFO] starting epoch 10/10...took 0.03035 minutes\n",
            "32/32 [==============================] - 0s 3ms/step - loss: 2.3032 - acc: 0.0768\n",
            "[INFO] test accuracy: 0.0770\n",
            "Traing for device_9\n",
            "[INFO] creating model...\n",
            "[INFO] starting epoch 1/10...[INFO] starting epoch 2/10...[INFO] starting epoch 3/10...[INFO] starting epoch 4/10...[INFO] starting epoch 5/10...[INFO] starting epoch 6/10...[INFO] starting epoch 7/10...[INFO] starting epoch 8/10...[INFO] starting epoch 9/10...[INFO] starting epoch 10/10...took 0.03007 minutes\n",
            "32/32 [==============================] - 0s 3ms/step - loss: 2.3038 - acc: 0.1040\n",
            "[INFO] test accuracy: 0.0940\n",
            "Traing for device_10\n",
            "[INFO] creating model...\n",
            "[INFO] starting epoch 1/10...[INFO] starting epoch 2/10...[INFO] starting epoch 3/10...[INFO] starting epoch 4/10...[INFO] starting epoch 5/10...[INFO] starting epoch 6/10...[INFO] starting epoch 7/10...[INFO] starting epoch 8/10...[INFO] starting epoch 9/10...[INFO] starting epoch 10/10...took 0.03053 minutes\n",
            "32/32 [==============================] - 0s 3ms/step - loss: 2.3039 - acc: 0.0864\n",
            "[INFO] test accuracy: 0.0850\n",
            "[INFO] Total accuracy: 0.1004\n"
          ],
          "name": "stdout"
        }
      ]
    },
    {
      "cell_type": "markdown",
      "metadata": {
        "id": "vzWA2ki0BEFa"
      },
      "source": [
        "Above we implement the procees of Federative learning each device done the training in his own dataset localy and select the topk weight to send to the server.\n",
        "After that come the step of aggregation done by the server. When the server received each weight it done the averaging and send new weigh to device and they update their model.\n",
        "Above we notice that the accuracy in the first round of communication is low tha is comprehensible because the servernot done the aggregation yet. "
      ]
    }
  ]
}